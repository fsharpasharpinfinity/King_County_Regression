{
 "cells": [
  {
   "cell_type": "markdown",
   "metadata": {},
   "source": [
    "# Model Prediction\n",
    "\n",
    "### Stacked Model: XGB + LGBM => Elastic Net Meta Regressor\n",
    "\n",
    "The best performing model in terms of fit was a stacked ensemble, bearing an R2 score of approximately 0.9125. It is important to restate the results of the learning curves explored for each model -- though the R2 scores are quite high, there model tuning did not affect the overall convergence of each respective algorithm (XGB, LGBM), indicating that more data is needed to both improve the fit, and allow the validation and training errors to converge to a better value.\n",
    "\n",
    "This section entails benchmarking of the stacked ensemble with regards to prediction time, and final analysis of error metrics for the testing phase."
   ]
  },
  {
   "cell_type": "code",
   "execution_count": 73,
   "metadata": {
    "collapsed": false,
    "deletable": true,
    "editable": true
   },
   "outputs": [],
   "source": [
    "import pandas as pd\n",
    "import numpy as np\n",
    "import matplotlib.pyplot as plt\n",
    "import seaborn as sns\n",
    "%matplotlib inline\n",
    "from sklearn.linear_model import (LinearRegression, Ridge, Lasso, RandomizedLasso, ElasticNet)\n",
    "from sklearn.feature_selection import RFE\n",
    "from sklearn.model_selection import GridSearchCV\n",
    "from sklearn.ensemble import AdaBoostRegressor\n",
    "from sklearn.decomposition import PCA\n",
    "from sklearn.preprocessing import StandardScaler, MinMaxScaler\n",
    "from sklearn.pipeline import Pipeline\n",
    "from sklearn.cross_validation import train_test_split\n",
    "from sklearn.cross_validation import cross_val_score\n",
    "import warnings\n",
    "import os\n",
    "import timeit\n",
    "import time\n",
    "warnings.filterwarnings('ignore')\n",
    "SEED=42\n",
    "CV_FOLDS=10\n",
    "kc_data = pd.read_csv('ci_i5_ap.csv')"
   ]
  },
  {
   "cell_type": "code",
   "execution_count": 74,
   "metadata": {
    "collapsed": false,
    "deletable": true,
    "editable": true
   },
   "outputs": [],
   "source": [
    "import datetime\n",
    "kc_data = kc_data.drop(['id', 'date'], axis=1)\n",
    "kc_data.head()\n",
    "kc_data['price'] = np.log(kc_data['price'])\n",
    "kc_train, kc_test, train_Y, test_Y = train_test_split(\n",
    "    kc_data, kc_data['price'], \n",
    "    test_size=.25, \n",
    "    random_state=SEED\n",
    ")\n",
    "kc_train = kc_train.drop('price', axis=1)\n",
    "kc_test = kc_test.drop('price', axis=1)\n",
    "scaler = StandardScaler()\n",
    "kc_train = scaler.fit_transform(kc_train)\n",
    "kc_test = scaler.transform(kc_test)"
   ]
  },
  {
   "cell_type": "code",
   "execution_count": 75,
   "metadata": {
    "collapsed": false,
    "deletable": true,
    "editable": true
   },
   "outputs": [
    {
     "name": "stdout",
     "output_type": "stream",
     "text": [
      "pyLightGBM is looking for 'LIGHTGBM_EXEC' environment variable, cannot be found.\n",
      "exec_path will be deprecated in favor of environment variable\n"
     ]
    }
   ],
   "source": [
    "from mlxtend.regressor import StackingRegressor\n",
    "from pylightgbm.models import GBMRegressor\n",
    "import xgboost as xgb\n",
    "\n",
    "home = os.path.expanduser(\"~\")\n",
    "exec = os.path.join(home, \"LightGBM/lightgbm\")\n",
    "\n",
    "lgbm = GBMRegressor(exec_path=exec, \n",
    "                    boosting_type='gbdt',\n",
    "                    feature_fraction_seed=SEED,\n",
    "                    bagging_seed=SEED,\n",
    "                    tree_learner='serial',\n",
    "                    metric='r2', #l2\n",
    "                    verbose=False,\n",
    "                    \n",
    "                    num_leaves=35,\n",
    "                    num_iterations=3800,#350 faster1\n",
    "                    learning_rate=0.01,#0.1 faster1\n",
    "                    max_bin=500, #255 faster1\n",
    "\n",
    "                    min_data_in_leaf=5,\n",
    "                    feature_fraction=1,\n",
    "\n",
    "                    bagging_fraction=1,\n",
    "                    bagging_freq=10,\n",
    "\n",
    "                    metric_freq=1,\n",
    "                    early_stopping_round=19\n",
    "                   )"
   ]
  },
  {
   "cell_type": "code",
   "execution_count": 76,
   "metadata": {
    "collapsed": false,
    "deletable": true,
    "editable": true
   },
   "outputs": [],
   "source": [
    "gbm = xgb.XGBRegressor(\n",
    "    min_child_weight=5, \n",
    "    max_depth=3, \n",
    "    objective='reg:linear',\n",
    "    gamma=0,\n",
    "    reg_alpha=0.6,\n",
    "    reg_lambda=1,\n",
    "    learning_rate=0.1, \n",
    "    colsample_bytree=1.0, \n",
    "    seed=SEED, \n",
    "    n_estimators=2375, \n",
    "    subsample=1,\n",
    "    verbose=True\n",
    ")"
   ]
  },
  {
   "cell_type": "code",
   "execution_count": 77,
   "metadata": {
    "collapsed": false,
    "deletable": true,
    "editable": true
   },
   "outputs": [],
   "source": [
    "from mlxtend.regressor import StackingRegressor\n",
    "lin_reg = LinearRegression()\n",
    "meta_reg_elastic = ElasticNet(alpha=0.0095, l1_ratio=0, tol=0.00001, random_state=SEED)\n",
    "stacked_reg = StackingRegressor(regressors=[lgbm, gbm], meta_regressor = meta_reg_elastic)"
   ]
  },
  {
   "cell_type": "code",
   "execution_count": 91,
   "metadata": {
    "collapsed": false,
    "deletable": true,
    "editable": true
   },
   "outputs": [],
   "source": [
    "#Construct Dataframes to save results\n",
    "gbm_df = pd.DataFrame(columns=[['avg_pred', 'single_pred', 'rmse', 'mae', 'logerror']])\n",
    "lgbm_df = pd.DataFrame(columns=[['avg_pred', 'single_pred', 'rmse', 'mae', 'logerror']])"
   ]
  },
  {
   "cell_type": "markdown",
   "metadata": {},
   "source": [
    "### Model Fitting and Prediction"
   ]
  },
  {
   "cell_type": "code",
   "execution_count": 78,
   "metadata": {
    "collapsed": false,
    "deletable": true,
    "editable": true
   },
   "outputs": [
    {
     "name": "stdout",
     "output_type": "stream",
     "text": [
      "pyLightGBM is looking for 'LIGHTGBM_EXEC' environment variable, cannot be found.\n",
      "exec_path will be deprecated in favor of environment variable\n"
     ]
    },
    {
     "data": {
      "text/plain": [
       "StackingRegressor(meta_regressor=ElasticNet(alpha=0.0095, copy_X=True, fit_intercept=True, l1_ratio=0,\n",
       "      max_iter=1000, normalize=False, positive=False, precompute=False,\n",
       "      random_state=42, selection='cyclic', tol=1e-05, warm_start=False),\n",
       "         regressors=[GBMRegressor(application='regression', bagging_fraction=1, bagging_freq=10,\n",
       "       bagging_seed=42, boosting_type='gbdt', config='', drop_rate=0.01,\n",
       "       drop_seed=4, early_stopping_round=19,\n",
       "       exec_path='/Users/rlong/LightGBM/lightgbm', feature_fraction=1,\n",
       "       feature_fraction...lpha=0.6, reg_lambda=1, scale_pos_weight=1, seed=42,\n",
       "       silent=True, subsample=1, verbose=True)],\n",
       "         verbose=0)"
      ]
     },
     "execution_count": 78,
     "metadata": {},
     "output_type": "execute_result"
    }
   ],
   "source": [
    "stacked_reg.fit(kc_train, train_Y)"
   ]
  },
  {
   "cell_type": "code",
   "execution_count": 79,
   "metadata": {
    "collapsed": false,
    "deletable": true,
    "editable": true
   },
   "outputs": [],
   "source": [
    "i = 0\n",
    "ensemble_time = 0\n",
    "\n",
    "for i in range(num_runs):\n",
    "    start = time.time()\n",
    "    stacked_pred = stacked_reg.predict(kc_test)\n",
    "    end = time.time()\n",
    "    ensemble_time += end-start\n"
   ]
  },
  {
   "cell_type": "code",
   "execution_count": 162,
   "metadata": {
    "collapsed": false,
    "deletable": true,
    "editable": true
   },
   "outputs": [
    {
     "data": {
      "text/plain": [
       "{'avg_pred': 175007.98439979553,\n",
       " 'log_error': 8.5659487050232066,\n",
       " 'mae': 60042.760940711058,\n",
       " 'name': 'ensemble',\n",
       " 'rmse': 108324.62334558432,\n",
       " 'single_pred': 32.38489718723085}"
      ]
     },
     "execution_count": 162,
     "metadata": {},
     "output_type": "execute_result"
    }
   ],
   "source": [
    "from sklearn.metrics import mean_squared_error, r2_score, mean_absolute_error\n",
    "import math\n",
    "\n",
    "unlog_Y = np.exp(test_Y)\n",
    "unlog_pred = np.exp(stacked_pred)\n",
    "log_err = np.sum(np.log(unlog_Y) - np.log(unlog_pred))\n",
    "\n",
    "ensemble_dict ={\n",
    "    'name': 'ensemble',\n",
    "    'avg_pred':(ensemble_time/num_runs * 100000), \n",
    "    'single_pred':(ensemble_time/num_runs) / len(test_Y) * 100000, \n",
    "    'rmse': math.sqrt(mean_squared_error(unlog_Y, unlog_pred)),\n",
    "    'mae': mean_absolute_error(unlog_Y, unlog_pred),\n",
    "    'log_error': log_err\n",
    "}\n",
    "ensemble_dict"
   ]
  },
  {
   "cell_type": "code",
   "execution_count": 127,
   "metadata": {
    "collapsed": false,
    "deletable": true,
    "editable": true
   },
   "outputs": [
    {
     "name": "stdout",
     "output_type": "stream",
     "text": [
      "GBM Avg Predict Time(μs):  175007.98439979553\n",
      "GBM Single Predict Time (μs):  32.38489718723085\n",
      "Ensemble RMSE:  108324.62334558432\n",
      "Ensemble MAE:  60042.7609407\n",
      "Ensemble Log Lerror:  8.56594870502\n"
     ]
    }
   ],
   "source": [
    "print(\"GBM Avg Predict Time(μs): \", ensemble_dict['avg_pred'])\n",
    "print(\"GBM Single Predict Time (μs): \", ensemble_dict['single_pred'])\n",
    "print(\"Ensemble RMSE: \", ensemble_dict['rmse'])\n",
    "print(\"Ensemble MAE: \", ensemble_dict['mae'])\n",
    "print(\"Ensemble Log Lerror: \", ensemble_dict['log_error'])"
   ]
  },
  {
   "cell_type": "code",
   "execution_count": 64,
   "metadata": {
    "collapsed": false
   },
   "outputs": [
    {
     "name": "stdout",
     "output_type": "stream",
     "text": [
      "pyLightGBM is looking for 'LIGHTGBM_EXEC' environment variable, cannot be found.\n",
      "exec_path will be deprecated in favor of environment variable\n"
     ]
    }
   ],
   "source": [
    "home = os.path.expanduser(\"~\")\n",
    "exec = os.path.join(home, \"LightGBM/lightgbm\")\n",
    "\n",
    "lgbm_alone = GBMRegressor(exec_path=exec, \n",
    "                    boosting_type='gbdt',\n",
    "                    feature_fraction_seed=SEED,\n",
    "                    bagging_seed=SEED,\n",
    "                    tree_learner='serial',\n",
    "                    metric='r2', #l2\n",
    "                    verbose=False,\n",
    "                    \n",
    "                    num_leaves=35,\n",
    "                    num_iterations=3800,#350 faster1\n",
    "                    learning_rate=0.01,#0.1 faster1\n",
    "                    max_bin=500, #255 faster1\n",
    "\n",
    "                    min_data_in_leaf=5,\n",
    "                    feature_fraction=1,\n",
    "\n",
    "                    bagging_fraction=1,\n",
    "                    bagging_freq=10,\n",
    "\n",
    "                    metric_freq=1,\n",
    "                    early_stopping_round=19\n",
    "                   )"
   ]
  },
  {
   "cell_type": "code",
   "execution_count": 67,
   "metadata": {
    "collapsed": false
   },
   "outputs": [],
   "source": [
    "lgbm_alone.fit(kc_train, train_Y)\n",
    "i = 0\n",
    "lgbm_time = 0\n",
    "num_runs = 100\n",
    "for i in range(num_runs):\n",
    "    start = time.time()\n",
    "    lgbm_pred = lgbm_alone.predict(kc_test)\n",
    "    end = time.time()\n",
    "    lgbm_time += end-start\n"
   ]
  },
  {
   "cell_type": "code",
   "execution_count": 161,
   "metadata": {
    "collapsed": false
   },
   "outputs": [
    {
     "name": "stdout",
     "output_type": "stream",
     "text": [
      "LGBM Avg Predict Time (μs):  138332.80515670776\n",
      "LGBM Single Predict Time (μs):  25.59822449235895\n",
      "LGBM RMSE:  110317.53265051449\n",
      "LGBM MAE:  61356.4845731\n",
      "LGBM Log-Error  15.7727686688\n"
     ]
    }
   ],
   "source": [
    "unlog_lgbm_pred = np.exp(lgbm_pred)\n",
    "\n",
    "lgbm_dict ={\n",
    "    'name': 'lgbm',\n",
    "    'avg_pred':(lgbm_time/num_runs * 100000), \n",
    "    'single_pred':(lgbm_time/num_runs) / len(test_Y) * 100000, \n",
    "    'rmse': math.sqrt(mean_squared_error(unlog_Y, unlog_lgbm_pred)),\n",
    "    'mae': mean_absolute_error(unlog_Y, unlog_lgbm_pred),\n",
    "    'log_error': np.sum(np.log(unlog_Y) - np.log(unlog_lgbm_pred))\n",
    "}\n",
    "\n",
    "print(\"LGBM Avg Predict Time (μs): \", lgbm_dict['avg_pred'])\n",
    "print(\"LGBM Single Predict Time (μs): \", lgbm_dict['single_pred'])\n",
    "print(\"LGBM RMSE: \", lgbm_dict['rmse'])\n",
    "print(\"LGBM MAE: \", lgbm_dict['mae'])\n",
    "print(\"LGBM Log-Error \", lgbm_dict['log_error'])"
   ]
  },
  {
   "cell_type": "code",
   "execution_count": 33,
   "metadata": {
    "collapsed": true
   },
   "outputs": [],
   "source": [
    "gbm_alone = xgb.XGBRegressor(\n",
    "    min_child_weight=5, \n",
    "    max_depth=3, \n",
    "    objective='reg:linear',\n",
    "    gamma=0,\n",
    "    reg_alpha=0.6,\n",
    "    reg_lambda=1,\n",
    "    learning_rate=0.1, \n",
    "    colsample_bytree=1.0, \n",
    "    seed=SEED, \n",
    "    n_estimators=2375, \n",
    "    subsample=1,\n",
    "    verbose=True\n",
    ")"
   ]
  },
  {
   "cell_type": "code",
   "execution_count": 35,
   "metadata": {
    "collapsed": false
   },
   "outputs": [
    {
     "data": {
      "text/plain": [
       "XGBRegressor(base_score=0.5, booster='gbtree', colsample_bylevel=1,\n",
       "       colsample_bytree=1.0, gamma=0, learning_rate=0.1, max_delta_step=0,\n",
       "       max_depth=3, min_child_weight=5, missing=None, n_estimators=2375,\n",
       "       n_jobs=1, nthread=None, objective='reg:linear', random_state=0,\n",
       "       reg_alpha=0.6, reg_lambda=1, scale_pos_weight=1, seed=42,\n",
       "       silent=True, subsample=1, verbose=True)"
      ]
     },
     "execution_count": 35,
     "metadata": {},
     "output_type": "execute_result"
    }
   ],
   "source": [
    "gbm_alone.fit(kc_train, train_Y)"
   ]
  },
  {
   "cell_type": "code",
   "execution_count": 69,
   "metadata": {
    "collapsed": false
   },
   "outputs": [],
   "source": [
    "i = 0\n",
    "gbm_time = 0\n",
    "\n",
    "for i in range(num_runs):\n",
    "    start = time.time()\n",
    "    gbm_pred = gbm_alone.predict(kc_test)\n",
    "    end = time.time()\n",
    "    gbm_time += end-start\n",
    "    \n"
   ]
  },
  {
   "cell_type": "code",
   "execution_count": 160,
   "metadata": {
    "collapsed": false
   },
   "outputs": [
    {
     "name": "stdout",
     "output_type": "stream",
     "text": [
      "GBM Avg Predict Time(μs):  37479.17318344116\n",
      "GBM Single Predict Time (μs):  6.935450256003175\n",
      "GBM RMSE:  110317.53265051449\n",
      "GBM MAE:  61356.4845731\n",
      "GBM Log-Error:  15.7727686688\n"
     ]
    }
   ],
   "source": [
    "unlog_gbm_pred = np.exp(lgbm_pred)\n",
    "gbm_dict ={\n",
    "    'name': 'GBM',\n",
    "    'avg_pred':(gbm_time/num_runs * 100000), \n",
    "    'single_pred':(gbm_time/num_runs) / len(test_Y) * 100000, \n",
    "    'rmse': math.sqrt(mean_squared_error(unlog_Y, unlog_gbm_pred)),\n",
    "    'mae': mean_absolute_error(unlog_Y, unlog_gbm_pred),\n",
    "    'log_error': np.sum(np.log(unlog_Y) - np.log(unlog_gbm_pred))\n",
    "}\n",
    "\n",
    "print(\"GBM Avg Predict Time(μs): \", gbm_dict['avg_pred'])\n",
    "print(\"GBM Single Predict Time (μs): \", gbm_dict['single_pred'])\n",
    "print(\"GBM RMSE: \", gbm_dict['rmse'])\n",
    "print(\"GBM MAE: \", gbm_dict['mae'])\n",
    "print(\"GBM Log-Error: \", gbm_dict['log_error'])"
   ]
  },
  {
   "cell_type": "markdown",
   "metadata": {},
   "source": [
    "# Analysis of Performance Results"
   ]
  },
  {
   "cell_type": "code",
   "execution_count": 163,
   "metadata": {
    "collapsed": false
   },
   "outputs": [],
   "source": [
    "df = pd.DataFrame(ensemble_dict, index=[0])\n",
    "df = df.append(lgbm_dict, ignore_index=True)\n",
    "df = df.append(gbm_dict, ignore_index=True)"
   ]
  },
  {
   "cell_type": "code",
   "execution_count": 164,
   "metadata": {
    "collapsed": false
   },
   "outputs": [
    {
     "data": {
      "text/html": [
       "<div>\n",
       "<table border=\"1\" class=\"dataframe\">\n",
       "  <thead>\n",
       "    <tr style=\"text-align: right;\">\n",
       "      <th></th>\n",
       "      <th>avg_pred</th>\n",
       "      <th>log_error</th>\n",
       "      <th>mae</th>\n",
       "      <th>name</th>\n",
       "      <th>rmse</th>\n",
       "      <th>single_pred</th>\n",
       "    </tr>\n",
       "  </thead>\n",
       "  <tbody>\n",
       "    <tr>\n",
       "      <th>0</th>\n",
       "      <td>175007.984400</td>\n",
       "      <td>8.565949</td>\n",
       "      <td>60042.760941</td>\n",
       "      <td>ensemble</td>\n",
       "      <td>108324.623346</td>\n",
       "      <td>32.384897</td>\n",
       "    </tr>\n",
       "    <tr>\n",
       "      <th>1</th>\n",
       "      <td>138332.805157</td>\n",
       "      <td>15.772769</td>\n",
       "      <td>61356.484573</td>\n",
       "      <td>lgbm</td>\n",
       "      <td>110317.532651</td>\n",
       "      <td>25.598224</td>\n",
       "    </tr>\n",
       "    <tr>\n",
       "      <th>2</th>\n",
       "      <td>37479.173183</td>\n",
       "      <td>15.772769</td>\n",
       "      <td>61356.484573</td>\n",
       "      <td>GBM</td>\n",
       "      <td>110317.532651</td>\n",
       "      <td>6.935450</td>\n",
       "    </tr>\n",
       "  </tbody>\n",
       "</table>\n",
       "</div>"
      ],
      "text/plain": [
       "        avg_pred  log_error           mae      name           rmse  \\\n",
       "0  175007.984400   8.565949  60042.760941  ensemble  108324.623346   \n",
       "1  138332.805157  15.772769  61356.484573      lgbm  110317.532651   \n",
       "2   37479.173183  15.772769  61356.484573       GBM  110317.532651   \n",
       "\n",
       "   single_pred  \n",
       "0    32.384897  \n",
       "1    25.598224  \n",
       "2     6.935450  "
      ]
     },
     "execution_count": 164,
     "metadata": {},
     "output_type": "execute_result"
    }
   ],
   "source": [
    "df"
   ]
  },
  {
   "cell_type": "code",
   "execution_count": 169,
   "metadata": {
    "collapsed": false
   },
   "outputs": [
    {
     "data": {
      "text/plain": [
       "<matplotlib.axes._subplots.AxesSubplot at 0x10b57dcc0>"
      ]
     },
     "execution_count": 169,
     "metadata": {},
     "output_type": "execute_result"
    },
    {
     "data": {
      "image/png": "[encoded data removed]",
      "text/plain": [
       "<matplotlib.figure.Figure at 0x10f8d8f60>"
      ]
     },
     "metadata": {},
     "output_type": "display_data"
    }
   ],
   "source": [
    "sns.barplot(x='name', y='avg_pred', data=df)"
   ]
  },
  {
   "cell_type": "code",
   "execution_count": 170,
   "metadata": {
    "collapsed": false
   },
   "outputs": [
    {
     "data": {
      "text/plain": [
       "<matplotlib.axes._subplots.AxesSubplot at 0x10b66e518>"
      ]
     },
     "execution_count": 170,
     "metadata": {},
     "output_type": "execute_result"
    },
    {
     "data": {
      "image/png": "[encoded data removed]",
      "text/plain": [
       "<matplotlib.figure.Figure at 0x10b67a588>"
      ]
     },
     "metadata": {},
     "output_type": "display_data"
    }
   ],
   "source": [
    "sns.barplot(x='name', y='single_pred', data=df)"
   ]
  },
  {
   "cell_type": "code",
   "execution_count": 171,
   "metadata": {
    "collapsed": false
   },
   "outputs": [
    {
     "data": {
      "text/plain": [
       "<matplotlib.axes._subplots.AxesSubplot at 0x10b764ef0>"
      ]
     },
     "execution_count": 171,
     "metadata": {},
     "output_type": "execute_result"
    },
    {
     "data": {
      "image/png": "[encoded data removed]",
      "text/plain": [
       "<matplotlib.figure.Figure at 0x10e0e4208>"
      ]
     },
     "metadata": {},
     "output_type": "display_data"
    }
   ],
   "source": [
    "sns.barplot(x='name', y='mae', data=df)"
   ]
  },
  {
   "cell_type": "code",
   "execution_count": 172,
   "metadata": {
    "collapsed": false
   },
   "outputs": [
    {
     "data": {
      "text/plain": [
       "<matplotlib.axes._subplots.AxesSubplot at 0x10b97a518>"
      ]
     },
     "execution_count": 172,
     "metadata": {},
     "output_type": "execute_result"
    },
    {
     "data": {
      "image/png": "[encoded data removed]",
      "text/plain": [
       "<matplotlib.figure.Figure at 0x10c4780f0>"
      ]
     },
     "metadata": {},
     "output_type": "display_data"
    }
   ],
   "source": [
    "sns.barplot(x='name', y='rmse', data=df)"
   ]
  },
  {
   "cell_type": "code",
   "execution_count": 173,
   "metadata": {
    "collapsed": false
   },
   "outputs": [
    {
     "data": {
      "text/plain": [
       "<matplotlib.axes._subplots.AxesSubplot at 0x10c49a898>"
      ]
     },
     "execution_count": 173,
     "metadata": {},
     "output_type": "execute_result"
    },
    {
     "data": {
      "image/png": "[encoded data removed]",
      "text/plain": [
       "<matplotlib.figure.Figure at 0x10ba45ac8>"
      ]
     },
     "metadata": {},
     "output_type": "display_data"
    }
   ],
   "source": [
    "sns.barplot(x='name', y='log_error', data=df)"
   ]
  },
  {
   "cell_type": "markdown",
   "metadata": {},
   "source": [
    "The overall RMSE and MAE scores of each respective models are relatively comparable, with the RMSE of the ensemble being slightly more efficient (approximately 1,000 dollars less). There is a tradeoff to be considered, in which the ensemble takes the most time (approximately the duration of the LGBM + GBM prediction times), but overall performs better on error metrics, especially as it faces a significant reduction in log loss error, from 16 down to 8.5. \n",
    "\n",
    "GBM seems to be the most lightweight of the model, only requiring 7 microseconds per prediction. It is important to consider the run-time use-cases for each model, if one is constructing a customer-facing api that utilizes one of these models for predictions. These prediction times are only relative -- though the stacked ensemble is the slowest, it is still relatively quick in the span of predicting, requiring only 32 microseconds per prediction. Additionally, if speed remains a problem, stacked ensembling allows distributed processing by fitting and predicting on different machines for a parallel approach.\n",
    "\n",
    "There remains an extensive amount of tuning and feature engineering available to improving the predictive capabilities of this model set, but these approaches were constrained due to cost and time. Additionally, the models need more data in order to converge further to an optimal result. Possible additional features were explored in the feature engineering section, which culminates in further leveraging the lat, long features in regards to coast distances, and overall proximity to amenities for a neighborhood rating. "
   ]
  },
  {
   "cell_type": "code",
   "execution_count": null,
   "metadata": {
    "collapsed": true
   },
   "outputs": [],
   "source": []
  }
 ],
 "metadata": {
  "kernelspec": {
   "display_name": "Python 3",
   "language": "python",
   "name": "python3"
  },
  "language_info": {
   "codemirror_mode": {
    "name": "ipython",
    "version": 3
   },
   "file_extension": ".py",
   "mimetype": "text/x-python",
   "name": "python",
   "nbconvert_exporter": "python",
   "pygments_lexer": "ipython3",
   "version": "3.6.0"
  }
 },
 "nbformat": 4,
 "nbformat_minor": 2
}
